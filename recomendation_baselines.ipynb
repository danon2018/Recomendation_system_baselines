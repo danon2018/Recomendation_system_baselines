{
 "cells": [
  {
   "cell_type": "code",
   "execution_count": 271,
   "id": "ae97ac9e",
   "metadata": {},
   "outputs": [],
   "source": [
    "import numpy as np\n",
    "import pandas as pd\n",
    "import matplotlib.pyplot as plt"
   ]
  },
  {
   "cell_type": "markdown",
   "id": "af856651",
   "metadata": {},
   "source": [
    "## Подготовка данных"
   ]
  },
  {
   "cell_type": "markdown",
   "id": "6a89f14a",
   "metadata": {},
   "source": [
    "В данной работе я буду пользоваться учебным набором данных, содержащим информацию об оценках фильмов, подробную информацию о данном датасете можно прочитать по ссылке: https://www.kaggle.com/datasets/prajitdatta/movielens-100k-dataset."
   ]
  },
  {
   "cell_type": "markdown",
   "id": "cb4f4b42",
   "metadata": {},
   "source": [
    "1) Датасет с информацией о фильмах:"
   ]
  },
  {
   "cell_type": "code",
   "execution_count": 272,
   "id": "ffd8df15",
   "metadata": {},
   "outputs": [
    {
     "data": {
      "text/html": [
       "<div>\n",
       "<style scoped>\n",
       "    .dataframe tbody tr th:only-of-type {\n",
       "        vertical-align: middle;\n",
       "    }\n",
       "\n",
       "    .dataframe tbody tr th {\n",
       "        vertical-align: top;\n",
       "    }\n",
       "\n",
       "    .dataframe thead th {\n",
       "        text-align: right;\n",
       "    }\n",
       "</style>\n",
       "<table border=\"1\" class=\"dataframe\">\n",
       "  <thead>\n",
       "    <tr style=\"text-align: right;\">\n",
       "      <th></th>\n",
       "      <th>movie_id</th>\n",
       "      <th>movie_title</th>\n",
       "      <th>action</th>\n",
       "      <th>adventure</th>\n",
       "      <th>animation</th>\n",
       "      <th>childrens</th>\n",
       "      <th>comedy</th>\n",
       "      <th>crime</th>\n",
       "      <th>documentary</th>\n",
       "      <th>drama</th>\n",
       "      <th>fantasy</th>\n",
       "      <th>noir</th>\n",
       "      <th>horror</th>\n",
       "      <th>musical</th>\n",
       "      <th>mystery</th>\n",
       "      <th>romance</th>\n",
       "      <th>scifi</th>\n",
       "      <th>thriller</th>\n",
       "      <th>war</th>\n",
       "      <th>western</th>\n",
       "    </tr>\n",
       "  </thead>\n",
       "  <tbody>\n",
       "    <tr>\n",
       "      <th>0</th>\n",
       "      <td>1</td>\n",
       "      <td>Toy Story (1995)</td>\n",
       "      <td>0</td>\n",
       "      <td>0</td>\n",
       "      <td>1</td>\n",
       "      <td>1</td>\n",
       "      <td>1</td>\n",
       "      <td>0</td>\n",
       "      <td>0</td>\n",
       "      <td>0</td>\n",
       "      <td>0</td>\n",
       "      <td>0</td>\n",
       "      <td>0</td>\n",
       "      <td>0</td>\n",
       "      <td>0</td>\n",
       "      <td>0</td>\n",
       "      <td>0</td>\n",
       "      <td>0</td>\n",
       "      <td>0</td>\n",
       "      <td>0</td>\n",
       "    </tr>\n",
       "    <tr>\n",
       "      <th>1</th>\n",
       "      <td>2</td>\n",
       "      <td>GoldenEye (1995)</td>\n",
       "      <td>1</td>\n",
       "      <td>1</td>\n",
       "      <td>0</td>\n",
       "      <td>0</td>\n",
       "      <td>0</td>\n",
       "      <td>0</td>\n",
       "      <td>0</td>\n",
       "      <td>0</td>\n",
       "      <td>0</td>\n",
       "      <td>0</td>\n",
       "      <td>0</td>\n",
       "      <td>0</td>\n",
       "      <td>0</td>\n",
       "      <td>0</td>\n",
       "      <td>0</td>\n",
       "      <td>1</td>\n",
       "      <td>0</td>\n",
       "      <td>0</td>\n",
       "    </tr>\n",
       "    <tr>\n",
       "      <th>2</th>\n",
       "      <td>3</td>\n",
       "      <td>Four Rooms (1995)</td>\n",
       "      <td>0</td>\n",
       "      <td>0</td>\n",
       "      <td>0</td>\n",
       "      <td>0</td>\n",
       "      <td>0</td>\n",
       "      <td>0</td>\n",
       "      <td>0</td>\n",
       "      <td>0</td>\n",
       "      <td>0</td>\n",
       "      <td>0</td>\n",
       "      <td>0</td>\n",
       "      <td>0</td>\n",
       "      <td>0</td>\n",
       "      <td>0</td>\n",
       "      <td>0</td>\n",
       "      <td>1</td>\n",
       "      <td>0</td>\n",
       "      <td>0</td>\n",
       "    </tr>\n",
       "    <tr>\n",
       "      <th>3</th>\n",
       "      <td>4</td>\n",
       "      <td>Get Shorty (1995)</td>\n",
       "      <td>1</td>\n",
       "      <td>0</td>\n",
       "      <td>0</td>\n",
       "      <td>0</td>\n",
       "      <td>1</td>\n",
       "      <td>0</td>\n",
       "      <td>0</td>\n",
       "      <td>1</td>\n",
       "      <td>0</td>\n",
       "      <td>0</td>\n",
       "      <td>0</td>\n",
       "      <td>0</td>\n",
       "      <td>0</td>\n",
       "      <td>0</td>\n",
       "      <td>0</td>\n",
       "      <td>0</td>\n",
       "      <td>0</td>\n",
       "      <td>0</td>\n",
       "    </tr>\n",
       "    <tr>\n",
       "      <th>4</th>\n",
       "      <td>5</td>\n",
       "      <td>Copycat (1995)</td>\n",
       "      <td>0</td>\n",
       "      <td>0</td>\n",
       "      <td>0</td>\n",
       "      <td>0</td>\n",
       "      <td>0</td>\n",
       "      <td>1</td>\n",
       "      <td>0</td>\n",
       "      <td>1</td>\n",
       "      <td>0</td>\n",
       "      <td>0</td>\n",
       "      <td>0</td>\n",
       "      <td>0</td>\n",
       "      <td>0</td>\n",
       "      <td>0</td>\n",
       "      <td>0</td>\n",
       "      <td>1</td>\n",
       "      <td>0</td>\n",
       "      <td>0</td>\n",
       "    </tr>\n",
       "  </tbody>\n",
       "</table>\n",
       "</div>"
      ],
      "text/plain": [
       "   movie_id        movie_title  action  adventure  animation  childrens  \\\n",
       "0         1   Toy Story (1995)       0          0          1          1   \n",
       "1         2   GoldenEye (1995)       1          1          0          0   \n",
       "2         3  Four Rooms (1995)       0          0          0          0   \n",
       "3         4  Get Shorty (1995)       1          0          0          0   \n",
       "4         5     Copycat (1995)       0          0          0          0   \n",
       "\n",
       "   comedy  crime  documentary  drama  fantasy  noir  horror  musical  mystery  \\\n",
       "0       1      0            0      0        0     0       0        0        0   \n",
       "1       0      0            0      0        0     0       0        0        0   \n",
       "2       0      0            0      0        0     0       0        0        0   \n",
       "3       1      0            0      1        0     0       0        0        0   \n",
       "4       0      1            0      1        0     0       0        0        0   \n",
       "\n",
       "   romance  scifi  thriller  war  western  \n",
       "0        0      0         0    0        0  \n",
       "1        0      0         1    0        0  \n",
       "2        0      0         1    0        0  \n",
       "3        0      0         0    0        0  \n",
       "4        0      0         1    0        0  "
      ]
     },
     "execution_count": 272,
     "metadata": {},
     "output_type": "execute_result"
    }
   ],
   "source": [
    "movies = pd.read_csv('ml-100k/u.item', sep = '|', header = None, engine='python', encoding='latin1')\n",
    "movies.columns = ['movie_id', 'movie_title', 'release_date', 'video_release_date', 'IMDb_URL', 'unknown',\n",
    "                  'action', 'adventure', 'animation', 'childrens', 'comedy', 'crime', 'documentary', 'drama',\n",
    "                  'fantasy', 'noir', 'horror', 'musical', 'mystery', 'romance', 'scifi', 'thriller', 'war', \n",
    "                  'western']\n",
    "movies.drop(columns = ['video_release_date', 'IMDb_URL', 'unknown', 'release_date'], inplace=True)\n",
    "movies.head()"
   ]
  },
  {
   "cell_type": "markdown",
   "id": "ab6d9f33",
   "metadata": {},
   "source": [
    "2) Датасет с информацией о пользователях:"
   ]
  },
  {
   "cell_type": "code",
   "execution_count": 273,
   "id": "d990b3c6",
   "metadata": {},
   "outputs": [
    {
     "data": {
      "text/html": [
       "<div>\n",
       "<style scoped>\n",
       "    .dataframe tbody tr th:only-of-type {\n",
       "        vertical-align: middle;\n",
       "    }\n",
       "\n",
       "    .dataframe tbody tr th {\n",
       "        vertical-align: top;\n",
       "    }\n",
       "\n",
       "    .dataframe thead th {\n",
       "        text-align: right;\n",
       "    }\n",
       "</style>\n",
       "<table border=\"1\" class=\"dataframe\">\n",
       "  <thead>\n",
       "    <tr style=\"text-align: right;\">\n",
       "      <th></th>\n",
       "      <th>user_id</th>\n",
       "      <th>age</th>\n",
       "      <th>gender</th>\n",
       "      <th>job</th>\n",
       "      <th>zip_code</th>\n",
       "    </tr>\n",
       "  </thead>\n",
       "  <tbody>\n",
       "    <tr>\n",
       "      <th>0</th>\n",
       "      <td>1</td>\n",
       "      <td>24</td>\n",
       "      <td>M</td>\n",
       "      <td>technician</td>\n",
       "      <td>85711</td>\n",
       "    </tr>\n",
       "    <tr>\n",
       "      <th>1</th>\n",
       "      <td>2</td>\n",
       "      <td>53</td>\n",
       "      <td>F</td>\n",
       "      <td>other</td>\n",
       "      <td>94043</td>\n",
       "    </tr>\n",
       "    <tr>\n",
       "      <th>2</th>\n",
       "      <td>3</td>\n",
       "      <td>23</td>\n",
       "      <td>M</td>\n",
       "      <td>writer</td>\n",
       "      <td>32067</td>\n",
       "    </tr>\n",
       "    <tr>\n",
       "      <th>3</th>\n",
       "      <td>4</td>\n",
       "      <td>24</td>\n",
       "      <td>M</td>\n",
       "      <td>technician</td>\n",
       "      <td>43537</td>\n",
       "    </tr>\n",
       "    <tr>\n",
       "      <th>4</th>\n",
       "      <td>5</td>\n",
       "      <td>33</td>\n",
       "      <td>F</td>\n",
       "      <td>other</td>\n",
       "      <td>15213</td>\n",
       "    </tr>\n",
       "  </tbody>\n",
       "</table>\n",
       "</div>"
      ],
      "text/plain": [
       "   user_id  age gender         job zip_code\n",
       "0        1   24      M  technician    85711\n",
       "1        2   53      F       other    94043\n",
       "2        3   23      M      writer    32067\n",
       "3        4   24      M  technician    43537\n",
       "4        5   33      F       other    15213"
      ]
     },
     "execution_count": 273,
     "metadata": {},
     "output_type": "execute_result"
    }
   ],
   "source": [
    "users = pd.read_csv('ml-100k/u.user', sep = '|', header = None, engine='python', encoding='latin1')\n",
    "users.columns = ['user_id', 'age', 'gender', 'job', 'zip_code']\n",
    "users.head()"
   ]
  },
  {
   "cell_type": "markdown",
   "id": "bcd2ab63",
   "metadata": {},
   "source": [
    "3) Датасет с рейтингами фильмов от пользователей:"
   ]
  },
  {
   "cell_type": "code",
   "execution_count": 274,
   "id": "4739a0a5",
   "metadata": {},
   "outputs": [
    {
     "data": {
      "text/html": [
       "<div>\n",
       "<style scoped>\n",
       "    .dataframe tbody tr th:only-of-type {\n",
       "        vertical-align: middle;\n",
       "    }\n",
       "\n",
       "    .dataframe tbody tr th {\n",
       "        vertical-align: top;\n",
       "    }\n",
       "\n",
       "    .dataframe thead th {\n",
       "        text-align: right;\n",
       "    }\n",
       "</style>\n",
       "<table border=\"1\" class=\"dataframe\">\n",
       "  <thead>\n",
       "    <tr style=\"text-align: right;\">\n",
       "      <th></th>\n",
       "      <th>user_id</th>\n",
       "      <th>movie_id</th>\n",
       "      <th>rating</th>\n",
       "      <th>timestamp</th>\n",
       "    </tr>\n",
       "  </thead>\n",
       "  <tbody>\n",
       "    <tr>\n",
       "      <th>0</th>\n",
       "      <td>196</td>\n",
       "      <td>242</td>\n",
       "      <td>3</td>\n",
       "      <td>881250949</td>\n",
       "    </tr>\n",
       "    <tr>\n",
       "      <th>1</th>\n",
       "      <td>186</td>\n",
       "      <td>302</td>\n",
       "      <td>3</td>\n",
       "      <td>891717742</td>\n",
       "    </tr>\n",
       "    <tr>\n",
       "      <th>2</th>\n",
       "      <td>22</td>\n",
       "      <td>377</td>\n",
       "      <td>1</td>\n",
       "      <td>878887116</td>\n",
       "    </tr>\n",
       "    <tr>\n",
       "      <th>3</th>\n",
       "      <td>244</td>\n",
       "      <td>51</td>\n",
       "      <td>2</td>\n",
       "      <td>880606923</td>\n",
       "    </tr>\n",
       "    <tr>\n",
       "      <th>4</th>\n",
       "      <td>166</td>\n",
       "      <td>346</td>\n",
       "      <td>1</td>\n",
       "      <td>886397596</td>\n",
       "    </tr>\n",
       "  </tbody>\n",
       "</table>\n",
       "</div>"
      ],
      "text/plain": [
       "   user_id  movie_id  rating  timestamp\n",
       "0      196       242       3  881250949\n",
       "1      186       302       3  891717742\n",
       "2       22       377       1  878887116\n",
       "3      244        51       2  880606923\n",
       "4      166       346       1  886397596"
      ]
     },
     "execution_count": 274,
     "metadata": {},
     "output_type": "execute_result"
    }
   ],
   "source": [
    "ratings = pd.read_csv('ml-100k/u.data', sep = '\\t', header = None, engine='python', encoding='latin1')\n",
    "ratings.columns = ['user_id', 'movie_id', 'rating', 'timestamp']\n",
    "ratings.head()"
   ]
  },
  {
   "cell_type": "markdown",
   "id": "60471f0d",
   "metadata": {},
   "source": [
    "## Построение бейзлайнов"
   ]
  },
  {
   "cell_type": "markdown",
   "id": "dd8a31c6",
   "metadata": {},
   "source": [
    "Строить и обучать модели будем с помощью библиотеки **Surprise**. Подробную документацию данной библиотеки можно найти по ссылке: https://surprise.readthedocs.io/en/stable/getting_started.html."
   ]
  },
  {
   "cell_type": "code",
   "execution_count": 275,
   "id": "d7604d2a",
   "metadata": {},
   "outputs": [],
   "source": [
    "from sklearn.model_selection import train_test_split\n",
    "from surprise import Reader, Dataset, SVD, NormalPredictor, KNNBasic\n",
    "from surprise.model_selection import cross_validate, GridSearchCV, RandomizedSearchCV\n"
   ]
  },
  {
   "cell_type": "code",
   "execution_count": 289,
   "id": "b865a87d",
   "metadata": {},
   "outputs": [],
   "source": [
    "data = Dataset.load_from_file('ml-100k/u.data', reader= Reader())"
   ]
  },
  {
   "cell_type": "markdown",
   "id": "f6ad798f",
   "metadata": {},
   "source": [
    "- В библиотеке **Surprise** есть 4 доступные метрики: `RMSE`, `MAE`, `MSE` и `FCP`. Первые 3 - это всем знакомые классические метрики в задачах машинного обучения, а подробнее про последнюю можно почитать по ссылке: https://www.ijcai.org/Proceedings/13/Papers/449.pdf. Мы будем использовать классический подход и измерять качество модели с помощью метрики `RMSE`(конечно, использование данной метрики в реальности при построении правильных рекомендаций не совсем корректно, подробнее об этом рассказано в данном видео: https://www.youtube.com/watch?v=Te_6TqEhyTI&t=2817s, однако на данном этапе ограничимся все же ей).\n",
    "- Также в данной библиотеке реализованы такие методы, как `GridSearchCV`, с помощью которого мы будем подбирать оптимальные гиперпараметры для моделей, и `cross_validate`, с помощью которого мы будем измерять качество моделей.\n",
    "\n",
    "Приступим к построению моделей."
   ]
  },
  {
   "cell_type": "markdown",
   "id": "4776d593",
   "metadata": {},
   "source": [
    "### 1) Random model "
   ]
  },
  {
   "cell_type": "markdown",
   "id": "c6134d04",
   "metadata": {},
   "source": [
    "Это простой алгоритм, который будет заполнять случайно таблицу с рейтингами, основываясь на наивном предположении, что распределение рейтингов в тренировочном сете - нормальное. У данной модели нет гиперпараметров, поэтому GridSearchCV здесь не нужен."
   ]
  },
  {
   "cell_type": "code",
   "execution_count": 295,
   "id": "43823526",
   "metadata": {},
   "outputs": [
    {
     "name": "stdout",
     "output_type": "stream",
     "text": [
      "Evaluating RMSE of algorithm NormalPredictor on 5 split(s).\n",
      "\n",
      "                  Fold 1  Fold 2  Fold 3  Fold 4  Fold 5  Mean    Std     \n",
      "RMSE (testset)    1.5251  1.5116  1.5193  1.5214  1.5127  1.5180  0.0052  \n",
      "Fit time          0.11    0.14    0.13    0.13    0.15    0.13    0.01    \n",
      "Test time         0.10    0.11    0.11    0.13    0.11    0.11    0.01    \n"
     ]
    }
   ],
   "source": [
    "model_random = NormalPredictor()\n",
    "model_random_results = cross_validate(model_random, data, measures=['RMSE'], cv=5, verbose=True)"
   ]
  },
  {
   "cell_type": "markdown",
   "id": "b06baf44",
   "metadata": {},
   "source": [
    "### 2) User based collaborative filtering "
   ]
  },
  {
   "cell_type": "markdown",
   "id": "9c065ac9",
   "metadata": {},
   "source": [
    "Для предсказания алгоритм берет пользователя, находит других пользователей, которые ставили схожие с ним рейтинги, и предлагает товары, которые понравились похожим пользователям(алгоритм работает на основе KNN). У данной модели есть основной гиперпараметр - количество соседей. Проведем поиск по сетке с помощью GridSearchCV и\n",
    "найдем оптимальный гиперпараметр."
   ]
  },
  {
   "cell_type": "code",
   "execution_count": 296,
   "id": "411a7fad",
   "metadata": {},
   "outputs": [],
   "source": [
    "# написать поиск по сетке лучших гиперпараметров\n",
    "param_grid = {'k': [10*i for i in range(1,10)], 'sim_options': {'user_based': [True]}}\n",
    "gs = GridSearchCV(KNNBasic, param_grid, measures=['RMSE'], cv=3, n_jobs=-2)\n",
    "\n",
    "gs.fit(data)"
   ]
  },
  {
   "cell_type": "code",
   "execution_count": 297,
   "id": "76e6fe1a",
   "metadata": {},
   "outputs": [
    {
     "data": {
      "text/plain": [
       "{'rmse': {'k': 30, 'sim_options': {'user_based': True}}}"
      ]
     },
     "execution_count": 297,
     "metadata": {},
     "output_type": "execute_result"
    }
   ],
   "source": [
    "gs.best_params"
   ]
  },
  {
   "cell_type": "code",
   "execution_count": 298,
   "id": "dd40d404",
   "metadata": {},
   "outputs": [
    {
     "name": "stdout",
     "output_type": "stream",
     "text": [
      "Computing the msd similarity matrix...\n",
      "Done computing similarity matrix.\n",
      "Computing the msd similarity matrix...\n",
      "Done computing similarity matrix.\n",
      "Computing the msd similarity matrix...\n",
      "Done computing similarity matrix.\n",
      "Computing the msd similarity matrix...\n",
      "Done computing similarity matrix.\n",
      "Computing the msd similarity matrix...\n",
      "Done computing similarity matrix.\n",
      "Evaluating RMSE of algorithm KNNBasic on 5 split(s).\n",
      "\n",
      "                  Fold 1  Fold 2  Fold 3  Fold 4  Fold 5  Mean    Std     \n",
      "RMSE (testset)    0.9771  0.9810  0.9741  0.9690  0.9837  0.9770  0.0052  \n",
      "Fit time          0.31    0.36    0.28    0.30    0.34    0.32    0.03    \n",
      "Test time         2.27    2.63    2.37    2.44    2.32    2.41    0.12    \n"
     ]
    }
   ],
   "source": [
    "model_user_based = KNNBasic(k=30, sim_options={'user_based': True})\n",
    "model_user_based_results = cross_validate(model_user_based, data, measures=['RMSE'], cv=5, verbose=True)"
   ]
  },
  {
   "cell_type": "markdown",
   "id": "0ca91d17",
   "metadata": {},
   "source": [
    "### 3) Item based collaborative filtering "
   ]
  },
  {
   "cell_type": "markdown",
   "id": "a232d9a9",
   "metadata": {},
   "source": [
    "В отличии от предыдущего пункта, алгоритм фокусируется на конкретном пользователе и на товары, которые ему понравились, вследствие чего будет рекомендовать похожие на эти понравившиеся товары(опять же алгоритм основан на KNN). У данной модели есть основной гиперпараметр - количество соседей. Проведем поиск по сетке с помощью GridSearchCV и найдем оптимальный гиперпараметр."
   ]
  },
  {
   "cell_type": "code",
   "execution_count": 300,
   "id": "66690a27",
   "metadata": {},
   "outputs": [],
   "source": [
    "param_grid = {'k': [10*i for i in range(1,10)], 'sim_options': {'user_based': [False]}}\n",
    "gs = GridSearchCV(KNNBasic, param_grid, measures=['RMSE'], cv=3, n_jobs=-2)\n",
    "\n",
    "gs.fit(data)"
   ]
  },
  {
   "cell_type": "code",
   "execution_count": 301,
   "id": "c8179e03",
   "metadata": {},
   "outputs": [
    {
     "data": {
      "text/plain": [
       "{'rmse': {'k': 40, 'sim_options': {'user_based': False}}}"
      ]
     },
     "execution_count": 301,
     "metadata": {},
     "output_type": "execute_result"
    }
   ],
   "source": [
    "gs.best_params"
   ]
  },
  {
   "cell_type": "code",
   "execution_count": 302,
   "id": "1e31aa5b",
   "metadata": {},
   "outputs": [
    {
     "name": "stdout",
     "output_type": "stream",
     "text": [
      "Computing the msd similarity matrix...\n",
      "Done computing similarity matrix.\n",
      "Computing the msd similarity matrix...\n",
      "Done computing similarity matrix.\n",
      "Computing the msd similarity matrix...\n",
      "Done computing similarity matrix.\n",
      "Computing the msd similarity matrix...\n",
      "Done computing similarity matrix.\n",
      "Computing the msd similarity matrix...\n",
      "Done computing similarity matrix.\n",
      "Evaluating RMSE of algorithm KNNBasic on 5 split(s).\n",
      "\n",
      "                  Fold 1  Fold 2  Fold 3  Fold 4  Fold 5  Mean    Std     \n",
      "RMSE (testset)    0.9701  0.9829  0.9740  0.9757  0.9723  0.9750  0.0044  \n",
      "Fit time          0.45    0.44    0.42    0.40    0.41    0.42    0.02    \n",
      "Test time         2.89    2.90    2.85    2.86    2.92    2.88    0.03    \n"
     ]
    }
   ],
   "source": [
    "model_item_based = KNNBasic(k=40, sim_options={'user_based': False})\n",
    "model_item_based_results = cross_validate(model_item_based, data, measures=['RMSE'], cv=5, verbose=True)"
   ]
  },
  {
   "cell_type": "markdown",
   "id": "d8fe56a3",
   "metadata": {},
   "source": [
    "### 4) Matrix factorization"
   ]
  },
  {
   "cell_type": "markdown",
   "id": "cb2b8e15",
   "metadata": {},
   "source": [
    "Подход сложный, алгоритм тут описывать не буду, скажу лишь, что он основан на сингулярном разложении матрицы рейтингов(SVD). Подробнее про это можно прочитать по ссылке: http://www.machinelearning.ru/wiki/images/7/79/2015_417_KhomutovNY.pdf. У данной модели очень большие степени свободы, то есть довольно много гиперпараметров. Мы рассмотрим только базовые: **n_epochs**(количество итераций алгоритма SGD), **biased**(будем ли мы учитывать свободный член), **lr_all**(learning rate для всех параметров), **reg_all**(коэффициент регуляризации для всех параметров). Так как мы будем выбирать довольно много гиперпараметров, вместо модуля `GridSearchCV` будем использовать модуль `RandomizedSearchCV` для экономии времени."
   ]
  },
  {
   "cell_type": "code",
   "execution_count": 303,
   "id": "a93e40e2",
   "metadata": {},
   "outputs": [],
   "source": [
    "param_grid = {'n_epochs': [5*i for i in range(1,10)],\n",
    "              'lr_all': [0.001*i for i in range(1,10)],\n",
    "              'reg_all': [0.01*i for i in range(1,10)],\n",
    "              'biased': [True, False]}\n",
    "gs = RandomizedSearchCV(SVD, param_grid, measures=['RMSE'], cv=3, n_jobs=-2)\n",
    "\n",
    "gs.fit(data)"
   ]
  },
  {
   "cell_type": "code",
   "execution_count": 304,
   "id": "1f8e84b8",
   "metadata": {},
   "outputs": [
    {
     "data": {
      "text/plain": [
       "{'rmse': {'n_epochs': 30, 'lr_all': 0.007, 'reg_all': 0.09, 'biased': True}}"
      ]
     },
     "execution_count": 304,
     "metadata": {},
     "output_type": "execute_result"
    }
   ],
   "source": [
    "gs.best_params"
   ]
  },
  {
   "cell_type": "code",
   "execution_count": 305,
   "id": "d034e783",
   "metadata": {},
   "outputs": [
    {
     "name": "stdout",
     "output_type": "stream",
     "text": [
      "Evaluating RMSE of algorithm SVD on 5 split(s).\n",
      "\n",
      "                  Fold 1  Fold 2  Fold 3  Fold 4  Fold 5  Mean    Std     \n",
      "RMSE (testset)    0.9155  0.9164  0.9181  0.9135  0.9136  0.9154  0.0017  \n",
      "Fit time          1.27    1.61    1.25    1.31    1.71    1.43    0.19    \n",
      "Test time         0.11    0.11    0.11    0.12    0.12    0.11    0.00    \n"
     ]
    }
   ],
   "source": [
    "model_mat_fac = SVD(n_epochs=30, lr_all=0.007, reg_all=0.09, biased=True)\n",
    "model_mat_fac_results = cross_validate(model_mat_fac, data, measures=['RMSE'], cv=5, verbose=True)"
   ]
  },
  {
   "cell_type": "markdown",
   "id": "cb4f6b75",
   "metadata": {},
   "source": [
    "### 5) Сравнение моделей "
   ]
  },
  {
   "cell_type": "code",
   "execution_count": 306,
   "id": "138d2c5b",
   "metadata": {},
   "outputs": [
    {
     "name": "stdout",
     "output_type": "stream",
     "text": [
      "\t RMSE Means for each model\n",
      "\n",
      "Random                  1.5180\n",
      "User-based              0.9770\n",
      "Item-based              0.9750\n",
      "Matrix factorization    0.9154\n",
      "dtype: float64\n"
     ]
    }
   ],
   "source": [
    "means = [round(model_random_results['test_rmse'].mean(),4),\n",
    "         round(model_user_based_results['test_rmse'].mean(),4),\n",
    "         round(model_item_based_results['test_rmse'].mean(),4), \n",
    "         round(model_mat_fac_results['test_rmse'].mean(),4)]\n",
    "\n",
    "print(\"\\t RMSE Means for each model\\n\")\n",
    "print(pd.Series(means, ['Random','User-based', 'Item-based', 'Matrix factorization']))"
   ]
  },
  {
   "cell_type": "markdown",
   "id": "73ff26ca",
   "metadata": {},
   "source": [
    "Как и предполагалось, худшей по качеству оказалась модель `Random`, а лучше всех отработала сложная модель `Matrix factorization`."
   ]
  },
  {
   "cell_type": "markdown",
   "id": "cf698c41",
   "metadata": {},
   "source": [
    "## Создание метрик Diversity и Novelty"
   ]
  },
  {
   "cell_type": "markdown",
   "id": "0c23d8c4",
   "metadata": {},
   "source": [
    "1) Теперь реализуем функции, которые будут подсчитывать Diversity и Novelty. В качестве Diversity будем использовать стандартную метрику ILD(Average Intra-List Distance), в качестве Novelty - стандартную метрику MIUF(Mean Inverse User Frequency). Подробно про данные метрики можно прочитать по ссылке: https://link.springer.com/content/pdf/10.1007/978-1-4899-7637-6_26.pdf. Подсчет данных метрик будет производиться с помощью библиотеки `recmetrics`, документация доступна по ссылке: https://pythonrepo.com/repo/statisticianinstilettos-recmetrics-python-recommender-systems."
   ]
  },
  {
   "cell_type": "code",
   "execution_count": 308,
   "id": "6db52dc4",
   "metadata": {},
   "outputs": [],
   "source": [
    "def get_top_n(predictions, n=10):\n",
    "    # First map the predictions to each user.\n",
    "    top_n = dict()\n",
    "    for uid, iid, true_r, est, details in predictions:\n",
    "        current = top_n.get(uid, [])\n",
    "        current.append((iid, movies.loc[int(iid)-1,'movie_title'],round(est,2)))\n",
    "        top_n[uid] = current\n",
    "\n",
    "    # Then sort the predictions for each user and retrieve the k highest ones.\n",
    "    for uid, user_ratings in top_n.items():\n",
    "        user_ratings.sort(key=lambda x: x[2], reverse=True)\n",
    "        top_n[uid] = user_ratings[:n]\n",
    "\n",
    "    return top_n"
   ]
  },
  {
   "cell_type": "markdown",
   "id": "ed25ecf1",
   "metadata": {},
   "source": [
    "2) Создадим функцию с помощью библиотеки `recmetrics`, которая будет подсчитывать метрику разнообразия для наших моделей:"
   ]
  },
  {
   "cell_type": "code",
   "execution_count": 309,
   "id": "7172c88a",
   "metadata": {},
   "outputs": [],
   "source": [
    "from recmetrics import intra_list_similarity"
   ]
  },
  {
   "cell_type": "code",
   "execution_count": 310,
   "id": "ec216727",
   "metadata": {},
   "outputs": [],
   "source": [
    "def Diversity(top_n, n=10):\n",
    "    predicted_matrix=[]\n",
    "    for user in top_n:\n",
    "        ids = []\n",
    "        for rec in top_n[user]:\n",
    "            ids.append(int(rec[0]))\n",
    "        predicted_matrix.append(ids)\n",
    "        return intra_list_similarity(predicted=predicted_matrix, feature_df=movies.drop(columns = 'movie_title'))\n",
    "        "
   ]
  },
  {
   "cell_type": "markdown",
   "id": "90816ccc",
   "metadata": {},
   "source": [
    "3) Создадим функцию с помощью библиотеки `recmetrics`, которая будет подсчитывать метрику новизны для наших моделей:"
   ]
  },
  {
   "cell_type": "code",
   "execution_count": 311,
   "id": "81e78390",
   "metadata": {},
   "outputs": [],
   "source": [
    "from recmetrics import novelty"
   ]
  },
  {
   "cell_type": "code",
   "execution_count": 312,
   "id": "97db47cc",
   "metadata": {},
   "outputs": [],
   "source": [
    "def Novelty(top_n, n=10):\n",
    "    predicted_matrix=[]\n",
    "    for user in top_n:\n",
    "        ids = []\n",
    "        for rec in top_n[user]:\n",
    "            ids.append(int(rec[0]))\n",
    "        predicted_matrix.append(ids)\n",
    "    \n",
    "    \n",
    "    ratings_dict = ratings.groupby('movie_id').agg({\n",
    "        'user_id': 'count'\n",
    "    })['user_id'].to_dict()\n",
    "    \n",
    "    return novelty(predicted = predicted_matrix, pop = ratings_dict, u = users.shape[0], n = n)[0]"
   ]
  },
  {
   "cell_type": "markdown",
   "id": "2bf993d3",
   "metadata": {},
   "source": [
    "4) Посчитаем построенные метрики на исследуемых моделях:"
   ]
  },
  {
   "cell_type": "code",
   "execution_count": 313,
   "id": "c2c0f399",
   "metadata": {},
   "outputs": [],
   "source": [
    "trainset = data.build_full_trainset()\n",
    "testset = trainset.build_anti_testset()"
   ]
  },
  {
   "cell_type": "code",
   "execution_count": 315,
   "id": "869f7360",
   "metadata": {},
   "outputs": [
    {
     "name": "stdout",
     "output_type": "stream",
     "text": [
      "Модель: Random model\n",
      "Diversity = 0.9999714407137267\n",
      "Novelty = 3.194833938335172\n",
      "\n",
      "\n",
      "\n",
      "Computing the msd similarity matrix...\n",
      "Done computing similarity matrix.\n",
      "Модель: User based model\n",
      "Diversity = 0.9999993315309315\n",
      "Novelty = 9.306491368175067\n",
      "\n",
      "\n",
      "\n",
      "Computing the msd similarity matrix...\n",
      "Done computing similarity matrix.\n",
      "Модель: Item based model\n",
      "Diversity = 0.9999990235152896\n",
      "Novelty = 8.046864277550805\n",
      "\n",
      "\n",
      "\n",
      "Модель: SVD_model\n",
      "Diversity = 0.9993676711978838\n",
      "Novelty = 3.0350367816708905\n",
      "\n",
      "\n",
      "\n"
     ]
    }
   ],
   "source": [
    "models = [model_random, model_user_based, model_item_based, model_mat_fac]\n",
    "model_names = ['Random model', 'User based model', 'Item based model', 'SVD_model']\n",
    "for model, model_name in zip(models, model_names):\n",
    "    model.fit(trainset)\n",
    "    predictions = model.test(testset)\n",
    "    top_10 = get_top_n(predictions, n=10)\n",
    "    print('Модель:', model_name)\n",
    "    print('Diversity =', Diversity(top_10))\n",
    "    print('Novelty =', Novelty(top_10))\n",
    "    print('\\n\\n')"
   ]
  },
  {
   "cell_type": "markdown",
   "id": "2261033a",
   "metadata": {},
   "source": [
    "**Вывод**: в плане разнообразия нельзя выделить ни одну из моделей: относительно метрики `Diversity` все показывают примерно одинаковые результаты; в плане новизны сильно выделяются KNN-based модели: относительно метрики `Novelty` они работают сильно лучше других представленных моделей."
   ]
  },
  {
   "cell_type": "markdown",
   "id": "745bd892",
   "metadata": {},
   "source": [
    "## Полезные ссылки, использованные в данном отчете"
   ]
  },
  {
   "cell_type": "markdown",
   "id": "9ad27fa5",
   "metadata": {},
   "source": [
    "- https://link.springer.com/content/pdf/10.1007/978-1-4899-7637-6_26.pdf\n",
    "- https://www.ijcai.org/Proceedings/13/Papers/449.pdf\n",
    "- https://surprise.readthedocs.io/en/stable/getting_started.html\n",
    "- https://www.kaggle.com/datasets/prajitdatta/movielens-100k-dataset\n",
    "- http://www.machinelearning.ru/wiki/images/7/79/2015_417_KhomutovNY.pdf\n",
    "- https://arxiv.org/pdf/1202.1112.pdf"
   ]
  },
  {
   "cell_type": "code",
   "execution_count": null,
   "id": "5947d6da",
   "metadata": {},
   "outputs": [],
   "source": [
    "\n"
   ]
  }
 ],
 "metadata": {
  "kernelspec": {
   "display_name": "Python 3 (ipykernel)",
   "language": "python",
   "name": "python3"
  },
  "language_info": {
   "codemirror_mode": {
    "name": "ipython",
    "version": 3
   },
   "file_extension": ".py",
   "mimetype": "text/x-python",
   "name": "python",
   "nbconvert_exporter": "python",
   "pygments_lexer": "ipython3",
   "version": "3.9.7"
  }
 },
 "nbformat": 4,
 "nbformat_minor": 5
}
